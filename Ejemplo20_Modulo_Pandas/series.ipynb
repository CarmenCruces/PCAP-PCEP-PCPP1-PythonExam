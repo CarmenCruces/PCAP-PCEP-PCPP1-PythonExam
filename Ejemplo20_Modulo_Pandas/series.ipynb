{
 "cells": [
  {
   "cell_type": "markdown",
   "id": "6eb05910",
   "metadata": {},
   "source": [
    "<h1>Modulo Pandas</h1>"
   ]
  },
  {
   "cell_type": "code",
   "execution_count": 2,
   "id": "6db12c3a",
   "metadata": {},
   "outputs": [],
   "source": [
    "# importamos el modulo pandas\n",
    "import pandas as pd"
   ]
  },
  {
   "cell_type": "code",
   "execution_count": 3,
   "id": "5c417d34",
   "metadata": {},
   "outputs": [
    {
     "data": {
      "text/plain": [
       "0         Juan\n",
       "1        Pedro\n",
       "2    Estefania\n",
       "3          Ana\n",
       "4      Esteban\n",
       "dtype: object"
      ]
     },
     "execution_count": 3,
     "metadata": {},
     "output_type": "execute_result"
    }
   ],
   "source": [
    "# crear serie a partir de una lista de nombres\n",
    "lista = ['Juan', 'Pedro','Estefania','Ana','Esteban']\n",
    "serie = pd.Series(lista, dtype='string')\n",
    "serie"
   ]
  },
  {
   "cell_type": "code",
   "execution_count": 11,
   "id": "c3ea37a7",
   "metadata": {},
   "outputs": [
    {
     "data": {
      "text/plain": [
       "0         Juan\n",
       "1        Pedro\n",
       "2    Estefania\n",
       "3          Ana\n",
       "4      Esteban\n",
       "dtype: object"
      ]
     },
     "execution_count": 11,
     "metadata": {},
     "output_type": "execute_result"
    }
   ],
   "source": [
    "# crear serie a partir de un diccionario\n",
    "diccionario = {0:'Juan', 1:'Pedro', 2:'Estefania', 3:'Ana', 4:'Esteban'}\n",
    "diccionario = {key:lista[key] for key in range(len(lista))}\n",
    "serie = pd.Series(diccionario)\n",
    "serie"
   ]
  },
  {
   "cell_type": "code",
   "execution_count": 12,
   "id": "9c5e99d6",
   "metadata": {},
   "outputs": [
    {
     "name": "stdout",
     "output_type": "stream",
     "text": [
      "Longitud: 5\n"
     ]
    }
   ],
   "source": [
    "print('Longitud:',serie.size)"
   ]
  },
  {
   "cell_type": "code",
   "execution_count": 13,
   "id": "4802aa46",
   "metadata": {},
   "outputs": [
    {
     "name": "stdout",
     "output_type": "stream",
     "text": [
      "indices de la serie: Int64Index([0, 1, 2, 3, 4], dtype='int64')\n"
     ]
    }
   ],
   "source": [
    "print('indices de la serie:', serie.index)"
   ]
  },
  {
   "cell_type": "code",
   "execution_count": 14,
   "id": "284f950c",
   "metadata": {},
   "outputs": [
    {
     "name": "stdout",
     "output_type": "stream",
     "text": [
      "Tipo: object\n"
     ]
    }
   ],
   "source": [
    "print('Tipo:', serie.dtype)"
   ]
  },
  {
   "cell_type": "code",
   "execution_count": 17,
   "id": "eda58d01",
   "metadata": {},
   "outputs": [
    {
     "name": "stdout",
     "output_type": "stream",
     "text": [
      "2 primeros: 0     Juan\n",
      "1    Pedro\n",
      "dtype: object\n"
     ]
    },
    {
     "data": {
      "text/plain": [
       "0     Juan\n",
       "1    Pedro\n",
       "dtype: object"
      ]
     },
     "execution_count": 17,
     "metadata": {},
     "output_type": "execute_result"
    }
   ],
   "source": [
    "# Acceder a los elementos por posicion\n",
    "print(\"2 primeros:\", serie[:2])  # 2 primeros\n",
    "serie[:2]"
   ]
  },
  {
   "cell_type": "code",
   "execution_count": 18,
   "id": "af15564c",
   "metadata": {},
   "outputs": [
    {
     "data": {
      "text/plain": [
       "1        Pedro\n",
       "2    Estefania\n",
       "dtype: object"
      ]
     },
     "execution_count": 18,
     "metadata": {},
     "output_type": "execute_result"
    }
   ],
   "source": [
    "serie[1:3] # el 3 no esta incluido"
   ]
  },
  {
   "cell_type": "code",
   "execution_count": 19,
   "id": "fdf58f9d",
   "metadata": {},
   "outputs": [
    {
     "data": {
      "text/plain": [
       "2    Estefania\n",
       "3          Ana\n",
       "4      Esteban\n",
       "dtype: object"
      ]
     },
     "execution_count": 19,
     "metadata": {},
     "output_type": "execute_result"
    }
   ],
   "source": [
    "serie[2:]"
   ]
  },
  {
   "cell_type": "code",
   "execution_count": 20,
   "id": "7bb82136",
   "metadata": {},
   "outputs": [
    {
     "data": {
      "text/plain": [
       "'Juan'"
      ]
     },
     "execution_count": 20,
     "metadata": {},
     "output_type": "execute_result"
    }
   ],
   "source": [
    "# Acceder a los elementos por el indice\n",
    "serie[0]"
   ]
  },
  {
   "cell_type": "code",
   "execution_count": 7,
   "id": "1e236b86",
   "metadata": {},
   "outputs": [
    {
     "data": {
      "text/plain": [
       "4    Esteban\n",
       "dtype: object"
      ]
     },
     "execution_count": 7,
     "metadata": {},
     "output_type": "execute_result"
    }
   ],
   "source": [
    "serie[len(serie) - 1]\n",
    "serie[-1:]\n",
    "#serie[-1]   No funciona"
   ]
  },
  {
   "cell_type": "code",
   "execution_count": 24,
   "id": "fa06ea4f",
   "metadata": {},
   "outputs": [
    {
     "data": {
      "text/plain": [
       "0    Juan\n",
       "3     Ana\n",
       "dtype: object"
      ]
     },
     "execution_count": 24,
     "metadata": {},
     "output_type": "execute_result"
    }
   ],
   "source": [
    "# Obtener solo 2 elementos \n",
    "serie[[0, 3]]"
   ]
  },
  {
   "cell_type": "code",
   "execution_count": 26,
   "id": "b6938085",
   "metadata": {},
   "outputs": [
    {
     "data": {
      "text/plain": [
       "0         JUAN\n",
       "1        PEDRO\n",
       "2    ESTEFANIA\n",
       "3          ANA\n",
       "4      ESTEBAN\n",
       "dtype: object"
      ]
     },
     "execution_count": 26,
     "metadata": {},
     "output_type": "execute_result"
    }
   ],
   "source": [
    "# Ejecutar lambdas con apply\n",
    "serie.apply(lambda nombre: nombre.upper())"
   ]
  },
  {
   "cell_type": "markdown",
   "id": "00bc989f",
   "metadata": {},
   "source": [
    "# Ejercicio\n",
    "# crear una serie de numeros y retornar la serie multiplicados * 2\n",
    "# con la serie de nombres creada anteriormente, retornar solo los que tienen mas de 4 caracteres"
   ]
  },
  {
   "cell_type": "code",
   "execution_count": 12,
   "id": "7cac8c69",
   "metadata": {},
   "outputs": [
    {
     "data": {
      "text/plain": [
       "0     2\n",
       "1     4\n",
       "2     6\n",
       "3     8\n",
       "4    10\n",
       "dtype: int64"
      ]
     },
     "execution_count": 12,
     "metadata": {},
     "output_type": "execute_result"
    }
   ],
   "source": [
    "serie_numeros = pd.Series([1,2,3,4,5])\n",
    "serie_numeros.apply(lambda num: num*2)"
   ]
  },
  {
   "cell_type": "code",
   "execution_count": 10,
   "id": "05ee4db2",
   "metadata": {},
   "outputs": [
    {
     "data": {
      "text/plain": [
       "1        Pedro\n",
       "2    Estefania\n",
       "4      Esteban\n",
       "dtype: object"
      ]
     },
     "execution_count": 10,
     "metadata": {},
     "output_type": "execute_result"
    }
   ],
   "source": [
    "# Crear el filtro\n",
    "filtro = serie.apply(lambda nombre: len(nombre)>4) # Solo contiene los valores True, False\n",
    "# aplicamos el filtro a la serie\n",
    "serie[filtro]"
   ]
  },
  {
   "cell_type": "code",
   "execution_count": 13,
   "id": "c6e696e5",
   "metadata": {},
   "outputs": [
    {
     "data": {
      "text/plain": [
       "0    Juan\n",
       "3     Ana\n",
       "dtype: object"
      ]
     },
     "execution_count": 13,
     "metadata": {},
     "output_type": "execute_result"
    }
   ],
   "source": [
    "# crear un filtro para que solo me devuleva Juan y Ana\n",
    "filtro = serie.apply(lambda nombre: nombre in ['Juan','Ana'])\n",
    "serie[filtro]"
   ]
  },
  {
   "cell_type": "code",
   "execution_count": 14,
   "id": "4ba4d72f",
   "metadata": {},
   "outputs": [
    {
     "data": {
      "text/plain": [
       "0    Juan\n",
       "3     Ana\n",
       "dtype: object"
      ]
     },
     "execution_count": 14,
     "metadata": {},
     "output_type": "execute_result"
    }
   ],
   "source": [
    "# otra forma de crear filtros\n",
    "serie[(serie == 'Juan') |  (serie=='Ana')]"
   ]
  },
  {
   "cell_type": "code",
   "execution_count": null,
   "id": "63f9b3f3",
   "metadata": {},
   "outputs": [],
   "source": []
  }
 ],
 "metadata": {
  "kernelspec": {
   "display_name": "Python 3",
   "language": "python",
   "name": "python3"
  },
  "language_info": {
   "codemirror_mode": {
    "name": "ipython",
    "version": 3
   },
   "file_extension": ".py",
   "mimetype": "text/x-python",
   "name": "python",
   "nbconvert_exporter": "python",
   "pygments_lexer": "ipython3",
   "version": "3.8.8"
  }
 },
 "nbformat": 4,
 "nbformat_minor": 5
}
