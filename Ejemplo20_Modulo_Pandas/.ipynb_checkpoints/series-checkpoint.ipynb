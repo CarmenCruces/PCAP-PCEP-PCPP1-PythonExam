{
 "cells": [
  {
   "cell_type": "code",
   "execution_count": 1,
   "id": "6db12c3a",
   "metadata": {},
   "outputs": [],
   "source": [
    "# importamos el modulo pandas\n",
    "import pandas as pd"
   ]
  },
  {
   "cell_type": "code",
   "execution_count": 2,
   "id": "5c417d34",
   "metadata": {},
   "outputs": [
    {
     "data": {
      "text/plain": [
       "0         Juan\n",
       "1        Pedro\n",
       "2    Estefania\n",
       "3          Ana\n",
       "4      Esteban\n",
       "dtype: string"
      ]
     },
     "execution_count": 2,
     "metadata": {},
     "output_type": "execute_result"
    }
   ],
   "source": [
    "# crear serie a partir de una lista de nombres\n",
    "lista = ['Juan', 'Pedro','Estefania','Ana','Esteban']\n",
    "serie = pd.Series(lista, dtype=\"string\")\n",
    "serie"
   ]
  },
  {
   "cell_type": "code",
   "execution_count": 3,
   "id": "c3ea37a7",
   "metadata": {},
   "outputs": [
    {
     "ename": "SyntaxError",
     "evalue": "expression cannot contain assignment, perhaps you meant \"==\"? (<ipython-input-3-4b9bfef33b45>, line 2)",
     "output_type": "error",
     "traceback": [
      "\u001b[0;36m  File \u001b[0;32m\"<ipython-input-3-4b9bfef33b45>\"\u001b[0;36m, line \u001b[0;32m2\u001b[0m\n\u001b[0;31m    diccionario = dict(0='Juan', 1='Pedro', 2='Estefania', 3='Ana',4='Esteban' )\u001b[0m\n\u001b[0m                       ^\u001b[0m\n\u001b[0;31mSyntaxError\u001b[0m\u001b[0;31m:\u001b[0m expression cannot contain assignment, perhaps you meant \"==\"?\n"
     ]
    }
   ],
   "source": [
    "# crear serie a partir de un diccionario\n",
    "diccionario = dict(0=Juan, 1=Pedro, 2=Estefania, 3=Ana,4=Esteban )\n",
    "diccionario"
   ]
  },
  {
   "cell_type": "code",
   "execution_count": null,
   "id": "70b5de1c",
   "metadata": {},
   "outputs": [],
   "source": []
  }
 ],
 "metadata": {
  "kernelspec": {
   "display_name": "Python 3",
   "language": "python",
   "name": "python3"
  },
  "language_info": {
   "codemirror_mode": {
    "name": "ipython",
    "version": 3
   },
   "file_extension": ".py",
   "mimetype": "text/x-python",
   "name": "python",
   "nbconvert_exporter": "python",
   "pygments_lexer": "ipython3",
   "version": "3.8.8"
  }
 },
 "nbformat": 4,
 "nbformat_minor": 5
}
