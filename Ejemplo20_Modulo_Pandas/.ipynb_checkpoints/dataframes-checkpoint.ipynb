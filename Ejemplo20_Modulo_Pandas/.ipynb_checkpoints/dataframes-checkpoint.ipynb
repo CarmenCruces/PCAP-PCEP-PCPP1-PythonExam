{
 "cells": [
  {
   "cell_type": "markdown",
   "id": "1c019f42",
   "metadata": {},
   "source": [
    "# DataFrames"
   ]
  },
  {
   "cell_type": "code",
   "execution_count": 1,
   "id": "a08eb4d0",
   "metadata": {},
   "outputs": [],
   "source": [
    "# importar el modulo Pandas\n",
    "import pandas as pd"
   ]
  },
  {
   "cell_type": "code",
   "execution_count": 2,
   "id": "bc37dec6",
   "metadata": {},
   "outputs": [
    {
     "data": {
      "text/html": [
       "<div>\n",
       "<style scoped>\n",
       "    .dataframe tbody tr th:only-of-type {\n",
       "        vertical-align: middle;\n",
       "    }\n",
       "\n",
       "    .dataframe tbody tr th {\n",
       "        vertical-align: top;\n",
       "    }\n",
       "\n",
       "    .dataframe thead th {\n",
       "        text-align: right;\n",
       "    }\n",
       "</style>\n",
       "<table border=\"1\" class=\"dataframe\">\n",
       "  <thead>\n",
       "    <tr style=\"text-align: right;\">\n",
       "      <th></th>\n",
       "      <th>Nombre</th>\n",
       "      <th>Nota</th>\n",
       "    </tr>\n",
       "  </thead>\n",
       "  <tbody>\n",
       "    <tr>\n",
       "      <th>0</th>\n",
       "      <td>Juan</td>\n",
       "      <td>4.5</td>\n",
       "    </tr>\n",
       "    <tr>\n",
       "      <th>1</th>\n",
       "      <td>Pedro</td>\n",
       "      <td>8.9</td>\n",
       "    </tr>\n",
       "    <tr>\n",
       "      <th>2</th>\n",
       "      <td>Estefania</td>\n",
       "      <td>1.4</td>\n",
       "    </tr>\n",
       "    <tr>\n",
       "      <th>3</th>\n",
       "      <td>Ana</td>\n",
       "      <td>5.6</td>\n",
       "    </tr>\n",
       "    <tr>\n",
       "      <th>4</th>\n",
       "      <td>Esteban</td>\n",
       "      <td>7.8</td>\n",
       "    </tr>\n",
       "  </tbody>\n",
       "</table>\n",
       "</div>"
      ],
      "text/plain": [
       "      Nombre  Nota\n",
       "0       Juan   4.5\n",
       "1      Pedro   8.9\n",
       "2  Estefania   1.4\n",
       "3        Ana   5.6\n",
       "4    Esteban   7.8"
      ]
     },
     "execution_count": 2,
     "metadata": {},
     "output_type": "execute_result"
    }
   ],
   "source": [
    "# crear un dataframe a partir de una lista\n",
    "data2 = [['Juan', 4.5], ['Pedro', 8.9],['Estefania',1.4], ['Ana',5.6],['Esteban',7.8]]\n",
    "columnasNombres = ['Nombre','Nota']\n",
    "filas = list(range(len(data2)))  # [0,1,2,3,4]\n",
    "df = pd.DataFrame(data2, columns=columnasNombres, index=filas)\n",
    "df"
   ]
  },
  {
   "cell_type": "code",
   "execution_count": 3,
   "id": "126fd13f",
   "metadata": {},
   "outputs": [
    {
     "data": {
      "text/plain": [
       "<bound method DataFrame.info of       Nombre  Nota\n",
       "0       Juan   4.5\n",
       "1      Pedro   8.9\n",
       "2  Estefania   1.4\n",
       "3        Ana   5.6\n",
       "4    Esteban   7.8>"
      ]
     },
     "execution_count": 3,
     "metadata": {},
     "output_type": "execute_result"
    }
   ],
   "source": [
    "# Obtener informacion\n",
    "df.info  # atributo, sin parentesis"
   ]
  },
  {
   "cell_type": "code",
   "execution_count": 4,
   "id": "989896de",
   "metadata": {},
   "outputs": [
    {
     "data": {
      "text/plain": [
       "(5, 2)"
      ]
     },
     "execution_count": 4,
     "metadata": {},
     "output_type": "execute_result"
    }
   ],
   "source": [
    "# Mostrar la forma del dataframe (num_filas, num_columnas)\n",
    "df.shape   "
   ]
  },
  {
   "cell_type": "code",
   "execution_count": 5,
   "id": "11f37487",
   "metadata": {},
   "outputs": [
    {
     "data": {
      "text/plain": [
       "10"
      ]
     },
     "execution_count": 5,
     "metadata": {},
     "output_type": "execute_result"
    }
   ],
   "source": [
    "# tamaño del dataframe (num_filas * num_columnas)\n",
    "df.size"
   ]
  },
  {
   "cell_type": "code",
   "execution_count": 6,
   "id": "340b738b",
   "metadata": {},
   "outputs": [
    {
     "data": {
      "text/plain": [
       "Index(['Nombre', 'Nota'], dtype='object')"
      ]
     },
     "execution_count": 6,
     "metadata": {},
     "output_type": "execute_result"
    }
   ],
   "source": [
    "# Mostrar los nombres de las columnas\n",
    "df.columns"
   ]
  },
  {
   "cell_type": "code",
   "execution_count": 7,
   "id": "2c7277fb",
   "metadata": {},
   "outputs": [
    {
     "data": {
      "text/plain": [
       "Index([0, 1, 2, 3, 4], dtype='int64')"
      ]
     },
     "execution_count": 7,
     "metadata": {},
     "output_type": "execute_result"
    }
   ],
   "source": [
    "# Mostrar los indices\n",
    "df.index"
   ]
  },
  {
   "cell_type": "code",
   "execution_count": 8,
   "id": "38219504",
   "metadata": {},
   "outputs": [
    {
     "data": {
      "text/plain": [
       "Nombre     object\n",
       "Nota      float64\n",
       "dtype: object"
      ]
     },
     "execution_count": 8,
     "metadata": {},
     "output_type": "execute_result"
    }
   ],
   "source": [
    "# Tipos de datos de las columnas\n",
    "df.dtypes"
   ]
  },
  {
   "cell_type": "code",
   "execution_count": 9,
   "id": "73e26703",
   "metadata": {},
   "outputs": [
    {
     "data": {
      "text/html": [
       "<div>\n",
       "<style scoped>\n",
       "    .dataframe tbody tr th:only-of-type {\n",
       "        vertical-align: middle;\n",
       "    }\n",
       "\n",
       "    .dataframe tbody tr th {\n",
       "        vertical-align: top;\n",
       "    }\n",
       "\n",
       "    .dataframe thead th {\n",
       "        text-align: right;\n",
       "    }\n",
       "</style>\n",
       "<table border=\"1\" class=\"dataframe\">\n",
       "  <thead>\n",
       "    <tr style=\"text-align: right;\">\n",
       "      <th></th>\n",
       "      <th>Nombre</th>\n",
       "      <th>Nota</th>\n",
       "    </tr>\n",
       "  </thead>\n",
       "  <tbody>\n",
       "    <tr>\n",
       "      <th>0</th>\n",
       "      <td>Juan</td>\n",
       "      <td>4.5</td>\n",
       "    </tr>\n",
       "    <tr>\n",
       "      <th>1</th>\n",
       "      <td>Pedro</td>\n",
       "      <td>8.9</td>\n",
       "    </tr>\n",
       "    <tr>\n",
       "      <th>2</th>\n",
       "      <td>Estefania</td>\n",
       "      <td>1.4</td>\n",
       "    </tr>\n",
       "  </tbody>\n",
       "</table>\n",
       "</div>"
      ],
      "text/plain": [
       "      Nombre  Nota\n",
       "0       Juan   4.5\n",
       "1      Pedro   8.9\n",
       "2  Estefania   1.4"
      ]
     },
     "execution_count": 9,
     "metadata": {},
     "output_type": "execute_result"
    }
   ],
   "source": [
    "# Mostrar las primeras 3 filas\n",
    "df.head(3)"
   ]
  },
  {
   "cell_type": "code",
   "execution_count": 10,
   "id": "3a683c51",
   "metadata": {},
   "outputs": [
    {
     "data": {
      "text/html": [
       "<div>\n",
       "<style scoped>\n",
       "    .dataframe tbody tr th:only-of-type {\n",
       "        vertical-align: middle;\n",
       "    }\n",
       "\n",
       "    .dataframe tbody tr th {\n",
       "        vertical-align: top;\n",
       "    }\n",
       "\n",
       "    .dataframe thead th {\n",
       "        text-align: right;\n",
       "    }\n",
       "</style>\n",
       "<table border=\"1\" class=\"dataframe\">\n",
       "  <thead>\n",
       "    <tr style=\"text-align: right;\">\n",
       "      <th></th>\n",
       "      <th>Nombre</th>\n",
       "      <th>Nota</th>\n",
       "    </tr>\n",
       "  </thead>\n",
       "  <tbody>\n",
       "    <tr>\n",
       "      <th>2</th>\n",
       "      <td>Estefania</td>\n",
       "      <td>1.4</td>\n",
       "    </tr>\n",
       "    <tr>\n",
       "      <th>3</th>\n",
       "      <td>Ana</td>\n",
       "      <td>5.6</td>\n",
       "    </tr>\n",
       "    <tr>\n",
       "      <th>4</th>\n",
       "      <td>Esteban</td>\n",
       "      <td>7.8</td>\n",
       "    </tr>\n",
       "  </tbody>\n",
       "</table>\n",
       "</div>"
      ],
      "text/plain": [
       "      Nombre  Nota\n",
       "2  Estefania   1.4\n",
       "3        Ana   5.6\n",
       "4    Esteban   7.8"
      ]
     },
     "execution_count": 10,
     "metadata": {},
     "output_type": "execute_result"
    }
   ],
   "source": [
    "# Mostrar las 3 ultimas filas\n",
    "df.tail(3)"
   ]
  },
  {
   "cell_type": "code",
   "execution_count": 81,
   "id": "0cc7caf3",
   "metadata": {},
   "outputs": [
    {
     "data": {
      "text/html": [
       "<div>\n",
       "<style scoped>\n",
       "    .dataframe tbody tr th:only-of-type {\n",
       "        vertical-align: middle;\n",
       "    }\n",
       "\n",
       "    .dataframe tbody tr th {\n",
       "        vertical-align: top;\n",
       "    }\n",
       "\n",
       "    .dataframe thead th {\n",
       "        text-align: right;\n",
       "    }\n",
       "</style>\n",
       "<table border=\"1\" class=\"dataframe\">\n",
       "  <thead>\n",
       "    <tr style=\"text-align: right;\">\n",
       "      <th></th>\n",
       "      <th>Id</th>\n",
       "      <th>Nombre</th>\n",
       "      <th>Apellido</th>\n",
       "      <th>Nota</th>\n",
       "    </tr>\n",
       "  </thead>\n",
       "  <tbody>\n",
       "    <tr>\n",
       "      <th>0</th>\n",
       "      <td>1</td>\n",
       "      <td>Juan</td>\n",
       "      <td>Garcia</td>\n",
       "      <td>4.5</td>\n",
       "    </tr>\n",
       "    <tr>\n",
       "      <th>1</th>\n",
       "      <td>2</td>\n",
       "      <td>Pedro</td>\n",
       "      <td>Sanchez</td>\n",
       "      <td>8.9</td>\n",
       "    </tr>\n",
       "    <tr>\n",
       "      <th>2</th>\n",
       "      <td>3</td>\n",
       "      <td>Estefania</td>\n",
       "      <td>Lopez</td>\n",
       "      <td>1.4</td>\n",
       "    </tr>\n",
       "    <tr>\n",
       "      <th>3</th>\n",
       "      <td>4</td>\n",
       "      <td>Ana</td>\n",
       "      <td>Garcia</td>\n",
       "      <td>5.6</td>\n",
       "    </tr>\n",
       "    <tr>\n",
       "      <th>4</th>\n",
       "      <td>5</td>\n",
       "      <td>Esteban</td>\n",
       "      <td>Gonzalez</td>\n",
       "      <td>7.8</td>\n",
       "    </tr>\n",
       "  </tbody>\n",
       "</table>\n",
       "</div>"
      ],
      "text/plain": [
       "   Id     Nombre  Apellido  Nota\n",
       "0   1       Juan    Garcia   4.5\n",
       "1   2      Pedro   Sanchez   8.9\n",
       "2   3  Estefania     Lopez   1.4\n",
       "3   4        Ana    Garcia   5.6\n",
       "4   5    Esteban  Gonzalez   7.8"
      ]
     },
     "execution_count": 81,
     "metadata": {},
     "output_type": "execute_result"
    }
   ],
   "source": [
    "# crear un dataframe a partir de un diccionario\n",
    "dictNombreNotas1 = { \n",
    "\"Id\": [1,2,3,4,5] ,\n",
    "\"Nombre\" : ['Juan', 'Pedro','Estefania', 'Ana', 'Esteban'],\n",
    "\"Apellido\": ['Garcia', 'Sanchez', 'Lopez', 'Garcia', 'Gonzalez' ],\n",
    "\"Nota\": [4.5, 8.9, 1.4, 5.6, 7.8]\n",
    "}\n",
    "dfDesdeDict1 = pd.DataFrame(dictNombreNotas1)\n",
    "dfDesdeDict1"
   ]
  },
  {
   "cell_type": "code",
   "execution_count": 12,
   "id": "b8291904",
   "metadata": {},
   "outputs": [
    {
     "data": {
      "text/html": [
       "<div>\n",
       "<style scoped>\n",
       "    .dataframe tbody tr th:only-of-type {\n",
       "        vertical-align: middle;\n",
       "    }\n",
       "\n",
       "    .dataframe tbody tr th {\n",
       "        vertical-align: top;\n",
       "    }\n",
       "\n",
       "    .dataframe thead th {\n",
       "        text-align: right;\n",
       "    }\n",
       "</style>\n",
       "<table border=\"1\" class=\"dataframe\">\n",
       "  <thead>\n",
       "    <tr style=\"text-align: right;\">\n",
       "      <th></th>\n",
       "      <th>Id</th>\n",
       "      <th>Nombre</th>\n",
       "      <th>Apellido</th>\n",
       "      <th>Nota</th>\n",
       "    </tr>\n",
       "  </thead>\n",
       "  <tbody>\n",
       "    <tr>\n",
       "      <th>0</th>\n",
       "      <td>6</td>\n",
       "      <td>Silvia</td>\n",
       "      <td>Gonzalez</td>\n",
       "      <td>5.5</td>\n",
       "    </tr>\n",
       "    <tr>\n",
       "      <th>1</th>\n",
       "      <td>7</td>\n",
       "      <td>Pedro</td>\n",
       "      <td>Perez</td>\n",
       "      <td>8.9</td>\n",
       "    </tr>\n",
       "  </tbody>\n",
       "</table>\n",
       "</div>"
      ],
      "text/plain": [
       "   Id  Nombre  Apellido  Nota\n",
       "0   6  Silvia  Gonzalez   5.5\n",
       "1   7   Pedro     Perez   8.9"
      ]
     },
     "execution_count": 12,
     "metadata": {},
     "output_type": "execute_result"
    }
   ],
   "source": [
    "# Otra forma de crear el dataframe a partir de un diccionario\n",
    "dictNombreNotas2 = [{'Id':6, 'Nombre':'Silvia', 'Apellido':'Gonzalez','Nota':5.5},\n",
    "                   {'Id':7, 'Nombre':'Pedro', 'Apellido':'Perez','Nota':8.9}]\n",
    "dfDesdeDict2 = pd.DataFrame(dictNombreNotas2)\n",
    "dfDesdeDict2"
   ]
  },
  {
   "cell_type": "code",
   "execution_count": 13,
   "id": "1960443e",
   "metadata": {},
   "outputs": [
    {
     "data": {
      "text/plain": [
       "1.4"
      ]
     },
     "execution_count": 13,
     "metadata": {},
     "output_type": "execute_result"
    }
   ],
   "source": [
    "# Acceso a los datos:\n",
    "# iloc[] -> acceso por posicion[fila,columna]\n",
    "dfDesdeDict1.iloc[2,3]"
   ]
  },
  {
   "cell_type": "code",
   "execution_count": 14,
   "id": "e9baa89a",
   "metadata": {},
   "outputs": [
    {
     "data": {
      "text/html": [
       "<div>\n",
       "<style scoped>\n",
       "    .dataframe tbody tr th:only-of-type {\n",
       "        vertical-align: middle;\n",
       "    }\n",
       "\n",
       "    .dataframe tbody tr th {\n",
       "        vertical-align: top;\n",
       "    }\n",
       "\n",
       "    .dataframe thead th {\n",
       "        text-align: right;\n",
       "    }\n",
       "</style>\n",
       "<table border=\"1\" class=\"dataframe\">\n",
       "  <thead>\n",
       "    <tr style=\"text-align: right;\">\n",
       "      <th></th>\n",
       "      <th>Id</th>\n",
       "      <th>Nombre</th>\n",
       "      <th>Apellido</th>\n",
       "      <th>Nota</th>\n",
       "    </tr>\n",
       "  </thead>\n",
       "  <tbody>\n",
       "    <tr>\n",
       "      <th>1</th>\n",
       "      <td>2</td>\n",
       "      <td>Pedro</td>\n",
       "      <td>Sanchez</td>\n",
       "      <td>8.9</td>\n",
       "    </tr>\n",
       "    <tr>\n",
       "      <th>2</th>\n",
       "      <td>3</td>\n",
       "      <td>Estefania</td>\n",
       "      <td>Lopez</td>\n",
       "      <td>1.4</td>\n",
       "    </tr>\n",
       "  </tbody>\n",
       "</table>\n",
       "</div>"
      ],
      "text/plain": [
       "   Id     Nombre Apellido  Nota\n",
       "1   2      Pedro  Sanchez   8.9\n",
       "2   3  Estefania    Lopez   1.4"
      ]
     },
     "execution_count": 14,
     "metadata": {},
     "output_type": "execute_result"
    }
   ],
   "source": [
    "# Queremos obtener los datos desde la fila 1 a la 3\n",
    "dfDesdeDict1.iloc[1:3]  # solo la fila 1 y 2 con todas las columnas\n",
    "dfDesdeDict1.iloc[1:3,] # solo la fila 1 y 2 con todas las columnas\n",
    "dfDesdeDict1.iloc[1:3,:]  # solo la fila 1 y 2 con todas las columnas  [rango_filas, rango_columnas]"
   ]
  },
  {
   "cell_type": "code",
   "execution_count": 15,
   "id": "4ac6d3dd",
   "metadata": {},
   "outputs": [
    {
     "data": {
      "text/html": [
       "<div>\n",
       "<style scoped>\n",
       "    .dataframe tbody tr th:only-of-type {\n",
       "        vertical-align: middle;\n",
       "    }\n",
       "\n",
       "    .dataframe tbody tr th {\n",
       "        vertical-align: top;\n",
       "    }\n",
       "\n",
       "    .dataframe thead th {\n",
       "        text-align: right;\n",
       "    }\n",
       "</style>\n",
       "<table border=\"1\" class=\"dataframe\">\n",
       "  <thead>\n",
       "    <tr style=\"text-align: right;\">\n",
       "      <th></th>\n",
       "      <th>Id</th>\n",
       "      <th>Nombre</th>\n",
       "      <th>Apellido</th>\n",
       "      <th>Nota</th>\n",
       "    </tr>\n",
       "  </thead>\n",
       "  <tbody>\n",
       "    <tr>\n",
       "      <th>1</th>\n",
       "      <td>2</td>\n",
       "      <td>Pedro</td>\n",
       "      <td>Sanchez</td>\n",
       "      <td>8.9</td>\n",
       "    </tr>\n",
       "  </tbody>\n",
       "</table>\n",
       "</div>"
      ],
      "text/plain": [
       "   Id Nombre Apellido  Nota\n",
       "1   2  Pedro  Sanchez   8.9"
      ]
     },
     "execution_count": 15,
     "metadata": {},
     "output_type": "execute_result"
    }
   ],
   "source": [
    "# Queremos obtener los datos desde la fila 1 con las 3 primeras columnas\n",
    "dfDesdeDict1.iloc[1:3:3]"
   ]
  },
  {
   "cell_type": "code",
   "execution_count": 16,
   "id": "49252823",
   "metadata": {},
   "outputs": [
    {
     "data": {
      "text/html": [
       "<div>\n",
       "<style scoped>\n",
       "    .dataframe tbody tr th:only-of-type {\n",
       "        vertical-align: middle;\n",
       "    }\n",
       "\n",
       "    .dataframe tbody tr th {\n",
       "        vertical-align: top;\n",
       "    }\n",
       "\n",
       "    .dataframe thead th {\n",
       "        text-align: right;\n",
       "    }\n",
       "</style>\n",
       "<table border=\"1\" class=\"dataframe\">\n",
       "  <thead>\n",
       "    <tr style=\"text-align: right;\">\n",
       "      <th></th>\n",
       "      <th>Id</th>\n",
       "      <th>Nombre</th>\n",
       "      <th>Apellido</th>\n",
       "    </tr>\n",
       "  </thead>\n",
       "  <tbody>\n",
       "    <tr>\n",
       "      <th>1</th>\n",
       "      <td>2</td>\n",
       "      <td>Pedro</td>\n",
       "      <td>Sanchez</td>\n",
       "    </tr>\n",
       "    <tr>\n",
       "      <th>2</th>\n",
       "      <td>3</td>\n",
       "      <td>Estefania</td>\n",
       "      <td>Lopez</td>\n",
       "    </tr>\n",
       "  </tbody>\n",
       "</table>\n",
       "</div>"
      ],
      "text/plain": [
       "   Id     Nombre Apellido\n",
       "1   2      Pedro  Sanchez\n",
       "2   3  Estefania    Lopez"
      ]
     },
     "execution_count": 16,
     "metadata": {},
     "output_type": "execute_result"
    }
   ],
   "source": [
    "# Queremos obtener los datos desde la fila 1 hasta la 3 con las 3 primeras columnas\n",
    "dfDesdeDict1.iloc[1:3,:3]"
   ]
  },
  {
   "cell_type": "code",
   "execution_count": 17,
   "id": "785c949d",
   "metadata": {},
   "outputs": [
    {
     "data": {
      "text/html": [
       "<div>\n",
       "<style scoped>\n",
       "    .dataframe tbody tr th:only-of-type {\n",
       "        vertical-align: middle;\n",
       "    }\n",
       "\n",
       "    .dataframe tbody tr th {\n",
       "        vertical-align: top;\n",
       "    }\n",
       "\n",
       "    .dataframe thead th {\n",
       "        text-align: right;\n",
       "    }\n",
       "</style>\n",
       "<table border=\"1\" class=\"dataframe\">\n",
       "  <thead>\n",
       "    <tr style=\"text-align: right;\">\n",
       "      <th></th>\n",
       "      <th>Id</th>\n",
       "      <th>Nombre</th>\n",
       "    </tr>\n",
       "  </thead>\n",
       "  <tbody>\n",
       "    <tr>\n",
       "      <th>0</th>\n",
       "      <td>1</td>\n",
       "      <td>Juan</td>\n",
       "    </tr>\n",
       "    <tr>\n",
       "      <th>1</th>\n",
       "      <td>2</td>\n",
       "      <td>Pedro</td>\n",
       "    </tr>\n",
       "    <tr>\n",
       "      <th>2</th>\n",
       "      <td>3</td>\n",
       "      <td>Estefania</td>\n",
       "    </tr>\n",
       "    <tr>\n",
       "      <th>3</th>\n",
       "      <td>4</td>\n",
       "      <td>Ana</td>\n",
       "    </tr>\n",
       "    <tr>\n",
       "      <th>4</th>\n",
       "      <td>5</td>\n",
       "      <td>Esteban</td>\n",
       "    </tr>\n",
       "  </tbody>\n",
       "</table>\n",
       "</div>"
      ],
      "text/plain": [
       "   Id     Nombre\n",
       "0   1       Juan\n",
       "1   2      Pedro\n",
       "2   3  Estefania\n",
       "3   4        Ana\n",
       "4   5    Esteban"
      ]
     },
     "execution_count": 17,
     "metadata": {},
     "output_type": "execute_result"
    }
   ],
   "source": [
    "# Mostrar todas las filas desde 0, solo 2 primeras columnas\n",
    "dfDesdeDict1.iloc[:,:2]\n",
    "dfDesdeDict1.iloc[:,0:2]  # es lo mismo"
   ]
  },
  {
   "cell_type": "code",
   "execution_count": 18,
   "id": "4a4663c3",
   "metadata": {},
   "outputs": [
    {
     "data": {
      "text/html": [
       "<div>\n",
       "<style scoped>\n",
       "    .dataframe tbody tr th:only-of-type {\n",
       "        vertical-align: middle;\n",
       "    }\n",
       "\n",
       "    .dataframe tbody tr th {\n",
       "        vertical-align: top;\n",
       "    }\n",
       "\n",
       "    .dataframe thead th {\n",
       "        text-align: right;\n",
       "    }\n",
       "</style>\n",
       "<table border=\"1\" class=\"dataframe\">\n",
       "  <thead>\n",
       "    <tr style=\"text-align: right;\">\n",
       "      <th></th>\n",
       "      <th>Nombre</th>\n",
       "      <th>Nota</th>\n",
       "    </tr>\n",
       "  </thead>\n",
       "  <tbody>\n",
       "    <tr>\n",
       "      <th>1</th>\n",
       "      <td>Pedro</td>\n",
       "      <td>8.9</td>\n",
       "    </tr>\n",
       "    <tr>\n",
       "      <th>4</th>\n",
       "      <td>Esteban</td>\n",
       "      <td>7.8</td>\n",
       "    </tr>\n",
       "  </tbody>\n",
       "</table>\n",
       "</div>"
      ],
      "text/plain": [
       "    Nombre  Nota\n",
       "1    Pedro   8.9\n",
       "4  Esteban   7.8"
      ]
     },
     "execution_count": 18,
     "metadata": {},
     "output_type": "execute_result"
    }
   ],
   "source": [
    "#También funciona para seleccionar diferentes columnas y/o filas:\n",
    "dfDesdeDict1.iloc[1:4,[1,3]] #mostrar ciertas columnas: nombre y nota\n",
    "\n",
    "dfDesdeDict1.iloc[[1,4],[1,3]] #mostrar ciertas filas y ciertas columnas"
   ]
  },
  {
   "cell_type": "code",
   "execution_count": 19,
   "id": "4935379b",
   "metadata": {},
   "outputs": [
    {
     "data": {
      "text/plain": [
       "Id                  3\n",
       "Nombre      Estefania\n",
       "Apellido        Lopez\n",
       "Nota              1.4\n",
       "Name: 2, dtype: object"
      ]
     },
     "execution_count": 19,
     "metadata": {},
     "output_type": "execute_result"
    }
   ],
   "source": [
    "# Acceso a los datos:\n",
    "# loc[] -> acceso por indice[nombre_indice_fila]\n",
    "dfDesdeDict1.loc[2]"
   ]
  },
  {
   "cell_type": "code",
   "execution_count": 20,
   "id": "d9cf6d22",
   "metadata": {},
   "outputs": [
    {
     "data": {
      "text/html": [
       "<div>\n",
       "<style scoped>\n",
       "    .dataframe tbody tr th:only-of-type {\n",
       "        vertical-align: middle;\n",
       "    }\n",
       "\n",
       "    .dataframe tbody tr th {\n",
       "        vertical-align: top;\n",
       "    }\n",
       "\n",
       "    .dataframe thead th {\n",
       "        text-align: right;\n",
       "    }\n",
       "</style>\n",
       "<table border=\"1\" class=\"dataframe\">\n",
       "  <thead>\n",
       "    <tr style=\"text-align: right;\">\n",
       "      <th></th>\n",
       "      <th>Id</th>\n",
       "      <th>Nombre</th>\n",
       "      <th>Apellido</th>\n",
       "      <th>Nota</th>\n",
       "    </tr>\n",
       "  </thead>\n",
       "  <tbody>\n",
       "    <tr>\n",
       "      <th>2</th>\n",
       "      <td>3</td>\n",
       "      <td>Estefania</td>\n",
       "      <td>Lopez</td>\n",
       "      <td>1.4</td>\n",
       "    </tr>\n",
       "    <tr>\n",
       "      <th>4</th>\n",
       "      <td>5</td>\n",
       "      <td>Esteban</td>\n",
       "      <td>Gonzalez</td>\n",
       "      <td>7.8</td>\n",
       "    </tr>\n",
       "  </tbody>\n",
       "</table>\n",
       "</div>"
      ],
      "text/plain": [
       "   Id     Nombre  Apellido  Nota\n",
       "2   3  Estefania     Lopez   1.4\n",
       "4   5    Esteban  Gonzalez   7.8"
      ]
     },
     "execution_count": 20,
     "metadata": {},
     "output_type": "execute_result"
    }
   ],
   "source": [
    "# Mostrar la fila 2 y fila 4\n",
    "dfDesdeDict1.loc[[2,4]]"
   ]
  },
  {
   "cell_type": "code",
   "execution_count": 21,
   "id": "891d6356",
   "metadata": {},
   "outputs": [
    {
     "data": {
      "text/html": [
       "<div>\n",
       "<style scoped>\n",
       "    .dataframe tbody tr th:only-of-type {\n",
       "        vertical-align: middle;\n",
       "    }\n",
       "\n",
       "    .dataframe tbody tr th {\n",
       "        vertical-align: top;\n",
       "    }\n",
       "\n",
       "    .dataframe thead th {\n",
       "        text-align: right;\n",
       "    }\n",
       "</style>\n",
       "<table border=\"1\" class=\"dataframe\">\n",
       "  <thead>\n",
       "    <tr style=\"text-align: right;\">\n",
       "      <th></th>\n",
       "      <th>Id</th>\n",
       "      <th>Nombre</th>\n",
       "      <th>Apellido</th>\n",
       "      <th>Nota</th>\n",
       "    </tr>\n",
       "  </thead>\n",
       "  <tbody>\n",
       "    <tr>\n",
       "      <th>2</th>\n",
       "      <td>3</td>\n",
       "      <td>Estefania</td>\n",
       "      <td>Lopez</td>\n",
       "      <td>1.4</td>\n",
       "    </tr>\n",
       "    <tr>\n",
       "      <th>3</th>\n",
       "      <td>4</td>\n",
       "      <td>Ana</td>\n",
       "      <td>Garcia</td>\n",
       "      <td>5.6</td>\n",
       "    </tr>\n",
       "    <tr>\n",
       "      <th>4</th>\n",
       "      <td>5</td>\n",
       "      <td>Esteban</td>\n",
       "      <td>Gonzalez</td>\n",
       "      <td>7.8</td>\n",
       "    </tr>\n",
       "  </tbody>\n",
       "</table>\n",
       "</div>"
      ],
      "text/plain": [
       "   Id     Nombre  Apellido  Nota\n",
       "2   3  Estefania     Lopez   1.4\n",
       "3   4        Ana    Garcia   5.6\n",
       "4   5    Esteban  Gonzalez   7.8"
      ]
     },
     "execution_count": 21,
     "metadata": {},
     "output_type": "execute_result"
    }
   ],
   "source": [
    "# Mostrar desde el indice de la fila 2 a la fila 4\n",
    "dfDesdeDict1.loc[2:4]"
   ]
  },
  {
   "cell_type": "code",
   "execution_count": 22,
   "id": "f958890e",
   "metadata": {},
   "outputs": [
    {
     "data": {
      "text/html": [
       "<div>\n",
       "<style scoped>\n",
       "    .dataframe tbody tr th:only-of-type {\n",
       "        vertical-align: middle;\n",
       "    }\n",
       "\n",
       "    .dataframe tbody tr th {\n",
       "        vertical-align: top;\n",
       "    }\n",
       "\n",
       "    .dataframe thead th {\n",
       "        text-align: right;\n",
       "    }\n",
       "</style>\n",
       "<table border=\"1\" class=\"dataframe\">\n",
       "  <thead>\n",
       "    <tr style=\"text-align: right;\">\n",
       "      <th></th>\n",
       "      <th>Nombre</th>\n",
       "      <th>Nota</th>\n",
       "    </tr>\n",
       "  </thead>\n",
       "  <tbody>\n",
       "    <tr>\n",
       "      <th>10</th>\n",
       "      <td>Juan</td>\n",
       "      <td>4.5</td>\n",
       "    </tr>\n",
       "    <tr>\n",
       "      <th>11</th>\n",
       "      <td>Pedro</td>\n",
       "      <td>8.9</td>\n",
       "    </tr>\n",
       "    <tr>\n",
       "      <th>12</th>\n",
       "      <td>Estefania</td>\n",
       "      <td>1.4</td>\n",
       "    </tr>\n",
       "    <tr>\n",
       "      <th>13</th>\n",
       "      <td>Ana</td>\n",
       "      <td>5.6</td>\n",
       "    </tr>\n",
       "    <tr>\n",
       "      <th>14</th>\n",
       "      <td>Esteban</td>\n",
       "      <td>7.8</td>\n",
       "    </tr>\n",
       "  </tbody>\n",
       "</table>\n",
       "</div>"
      ],
      "text/plain": [
       "       Nombre  Nota\n",
       "10       Juan   4.5\n",
       "11      Pedro   8.9\n",
       "12  Estefania   1.4\n",
       "13        Ana   5.6\n",
       "14    Esteban   7.8"
      ]
     },
     "execution_count": 22,
     "metadata": {},
     "output_type": "execute_result"
    }
   ],
   "source": [
    "# crear un dataframe a partir de una lista\n",
    "data2 = [['Juan', 4.5], ['Pedro', 8.9],['Estefania',1.4], ['Ana',5.6],['Esteban',7.8]]\n",
    "columnas = ['Nombre','Nota']\n",
    "filas = [10,11,12,13,14]\n",
    "df = pd.DataFrame(data2, columns=columnasNombres, index=filas)\n",
    "df"
   ]
  },
  {
   "cell_type": "code",
   "execution_count": 23,
   "id": "4c831680",
   "metadata": {},
   "outputs": [
    {
     "data": {
      "text/plain": [
       "Nombre    Pedro\n",
       "Nota        8.9\n",
       "Name: 11, dtype: object"
      ]
     },
     "execution_count": 23,
     "metadata": {},
     "output_type": "execute_result"
    }
   ],
   "source": [
    "# iloc -> accedemos por el orden de la fila\n",
    "df.iloc[1,:]  # 1 representa la segunda fila"
   ]
  },
  {
   "cell_type": "code",
   "execution_count": 24,
   "id": "395b0ada",
   "metadata": {},
   "outputs": [
    {
     "data": {
      "text/plain": [
       "Nombre    Pedro\n",
       "Nota        8.9\n",
       "Name: 11, dtype: object"
      ]
     },
     "execution_count": 24,
     "metadata": {},
     "output_type": "execute_result"
    }
   ],
   "source": [
    "# loc -> accedemos por el nombre del indice de la fila\n",
    "#df.loc[1]  # error porque el indice 1 no existe\n",
    "df.loc[11]"
   ]
  },
  {
   "cell_type": "code",
   "execution_count": 25,
   "id": "a209fff2",
   "metadata": {},
   "outputs": [
    {
     "data": {
      "text/plain": [
       "Nota    8.9\n",
       "Name: 11, dtype: object"
      ]
     },
     "execution_count": 25,
     "metadata": {},
     "output_type": "execute_result"
    }
   ],
   "source": [
    "# Solo la nota de Pedro [indice,['columna']]\n",
    "df.loc[11,['Nota']]"
   ]
  },
  {
   "cell_type": "code",
   "execution_count": 26,
   "id": "6519135e",
   "metadata": {},
   "outputs": [
    {
     "data": {
      "text/html": [
       "<div>\n",
       "<style scoped>\n",
       "    .dataframe tbody tr th:only-of-type {\n",
       "        vertical-align: middle;\n",
       "    }\n",
       "\n",
       "    .dataframe tbody tr th {\n",
       "        vertical-align: top;\n",
       "    }\n",
       "\n",
       "    .dataframe thead th {\n",
       "        text-align: right;\n",
       "    }\n",
       "</style>\n",
       "<table border=\"1\" class=\"dataframe\">\n",
       "  <thead>\n",
       "    <tr style=\"text-align: right;\">\n",
       "      <th></th>\n",
       "      <th>Nota</th>\n",
       "    </tr>\n",
       "  </thead>\n",
       "  <tbody>\n",
       "    <tr>\n",
       "      <th>11</th>\n",
       "      <td>8.9</td>\n",
       "    </tr>\n",
       "    <tr>\n",
       "      <th>13</th>\n",
       "      <td>5.6</td>\n",
       "    </tr>\n",
       "  </tbody>\n",
       "</table>\n",
       "</div>"
      ],
      "text/plain": [
       "    Nota\n",
       "11   8.9\n",
       "13   5.6"
      ]
     },
     "execution_count": 26,
     "metadata": {},
     "output_type": "execute_result"
    }
   ],
   "source": [
    "# Solo la nota de Pedro y Ana [[indice, indice],['columna']]\n",
    "df.loc[[11,13],['Nota']]"
   ]
  },
  {
   "cell_type": "code",
   "execution_count": 27,
   "id": "c39c9517",
   "metadata": {},
   "outputs": [
    {
     "data": {
      "text/plain": [
       "11    8.9\n",
       "12    1.4\n",
       "13    5.6\n",
       "Name: Nota, dtype: float64"
      ]
     },
     "execution_count": 27,
     "metadata": {},
     "output_type": "execute_result"
    }
   ],
   "source": [
    "# no puedo poner rangos\n",
    "#df.loc[[11:13],['Nota']]  # error\n",
    "df.loc[11:13]['Nota']  # si funciona"
   ]
  },
  {
   "cell_type": "code",
   "execution_count": 28,
   "id": "deceb824",
   "metadata": {},
   "outputs": [
    {
     "data": {
      "text/plain": [
       "8.9"
      ]
     },
     "execution_count": 28,
     "metadata": {},
     "output_type": "execute_result"
    }
   ],
   "source": [
    "# Solo la nota de Pedro df['columna'].loc[indice]\n",
    "df['Nota'].loc[11]"
   ]
  },
  {
   "cell_type": "code",
   "execution_count": 29,
   "id": "526969df",
   "metadata": {},
   "outputs": [
    {
     "data": {
      "text/plain": [
       "8.9"
      ]
     },
     "execution_count": 29,
     "metadata": {},
     "output_type": "execute_result"
    }
   ],
   "source": [
    "# nota de Pedro\n",
    "df.loc[11]['Nota']"
   ]
  },
  {
   "cell_type": "code",
   "execution_count": 30,
   "id": "e8e3773f",
   "metadata": {},
   "outputs": [
    {
     "data": {
      "text/plain": [
       "0      Garcia\n",
       "1     Sanchez\n",
       "2       Lopez\n",
       "3      Garcia\n",
       "4    Gonzalez\n",
       "Name: Apellido, dtype: object"
      ]
     },
     "execution_count": 30,
     "metadata": {},
     "output_type": "execute_result"
    }
   ],
   "source": [
    "# Mostrar solo las columnas (series) indicadas\n",
    "dfDesdeDict1['Apellido']"
   ]
  },
  {
   "cell_type": "code",
   "execution_count": 31,
   "id": "0f37c4de",
   "metadata": {},
   "outputs": [
    {
     "data": {
      "text/html": [
       "<div>\n",
       "<style scoped>\n",
       "    .dataframe tbody tr th:only-of-type {\n",
       "        vertical-align: middle;\n",
       "    }\n",
       "\n",
       "    .dataframe tbody tr th {\n",
       "        vertical-align: top;\n",
       "    }\n",
       "\n",
       "    .dataframe thead th {\n",
       "        text-align: right;\n",
       "    }\n",
       "</style>\n",
       "<table border=\"1\" class=\"dataframe\">\n",
       "  <thead>\n",
       "    <tr style=\"text-align: right;\">\n",
       "      <th></th>\n",
       "      <th>Nombre</th>\n",
       "      <th>Apellido</th>\n",
       "    </tr>\n",
       "  </thead>\n",
       "  <tbody>\n",
       "    <tr>\n",
       "      <th>0</th>\n",
       "      <td>Juan</td>\n",
       "      <td>Garcia</td>\n",
       "    </tr>\n",
       "    <tr>\n",
       "      <th>1</th>\n",
       "      <td>Pedro</td>\n",
       "      <td>Sanchez</td>\n",
       "    </tr>\n",
       "    <tr>\n",
       "      <th>2</th>\n",
       "      <td>Estefania</td>\n",
       "      <td>Lopez</td>\n",
       "    </tr>\n",
       "    <tr>\n",
       "      <th>3</th>\n",
       "      <td>Ana</td>\n",
       "      <td>Garcia</td>\n",
       "    </tr>\n",
       "    <tr>\n",
       "      <th>4</th>\n",
       "      <td>Esteban</td>\n",
       "      <td>Gonzalez</td>\n",
       "    </tr>\n",
       "  </tbody>\n",
       "</table>\n",
       "</div>"
      ],
      "text/plain": [
       "      Nombre  Apellido\n",
       "0       Juan    Garcia\n",
       "1      Pedro   Sanchez\n",
       "2  Estefania     Lopez\n",
       "3        Ana    Garcia\n",
       "4    Esteban  Gonzalez"
      ]
     },
     "execution_count": 31,
     "metadata": {},
     "output_type": "execute_result"
    }
   ],
   "source": [
    "dfDesdeDict1[['Nombre','Apellido']]"
   ]
  },
  {
   "cell_type": "code",
   "execution_count": 32,
   "id": "ae3f62ca",
   "metadata": {},
   "outputs": [
    {
     "data": {
      "text/plain": [
       "Nombre         Ana\n",
       "Apellido    Garcia\n",
       "Name: 3, dtype: object"
      ]
     },
     "execution_count": 32,
     "metadata": {},
     "output_type": "execute_result"
    }
   ],
   "source": [
    "# Nombre y apellido de Ana\n",
    "dfDesdeDict1[['Nombre','Apellido']].loc[3]  # filtras por serie y buscas la fila con el indice 3\n",
    "dfDesdeDict1.loc[3][['Nombre','Apellido']]  # primero obtienes la fila y luego filtras por columna"
   ]
  },
  {
   "cell_type": "code",
   "execution_count": 33,
   "id": "08bed0d1",
   "metadata": {},
   "outputs": [
    {
     "data": {
      "text/plain": [
       "Nombre       Esteban\n",
       "Apellido    Gonzalez\n",
       "Name: 4, dtype: object"
      ]
     },
     "execution_count": 33,
     "metadata": {},
     "output_type": "execute_result"
    }
   ],
   "source": [
    "# Nombre y apellido del elemento que esta en la posicion del indice 4\n",
    "dfDesdeDict1[['Nombre','Apellido']].iloc[4]"
   ]
  },
  {
   "cell_type": "code",
   "execution_count": 82,
   "id": "36fdc0e7",
   "metadata": {},
   "outputs": [
    {
     "data": {
      "text/html": [
       "<div>\n",
       "<style scoped>\n",
       "    .dataframe tbody tr th:only-of-type {\n",
       "        vertical-align: middle;\n",
       "    }\n",
       "\n",
       "    .dataframe tbody tr th {\n",
       "        vertical-align: top;\n",
       "    }\n",
       "\n",
       "    .dataframe thead th {\n",
       "        text-align: right;\n",
       "    }\n",
       "</style>\n",
       "<table border=\"1\" class=\"dataframe\">\n",
       "  <thead>\n",
       "    <tr style=\"text-align: right;\">\n",
       "      <th></th>\n",
       "      <th>Id</th>\n",
       "      <th>Nombre</th>\n",
       "      <th>Apellido</th>\n",
       "      <th>Resultado</th>\n",
       "      <th>Nota</th>\n",
       "    </tr>\n",
       "  </thead>\n",
       "  <tbody>\n",
       "    <tr>\n",
       "      <th>0</th>\n",
       "      <td>1</td>\n",
       "      <td>Juan</td>\n",
       "      <td>Garcia</td>\n",
       "      <td>Suspenso</td>\n",
       "      <td>4.5</td>\n",
       "    </tr>\n",
       "    <tr>\n",
       "      <th>1</th>\n",
       "      <td>2</td>\n",
       "      <td>Pedro</td>\n",
       "      <td>Sanchez</td>\n",
       "      <td>Aprobado</td>\n",
       "      <td>8.9</td>\n",
       "    </tr>\n",
       "    <tr>\n",
       "      <th>2</th>\n",
       "      <td>3</td>\n",
       "      <td>Estefania</td>\n",
       "      <td>Lopez</td>\n",
       "      <td>Suspenso</td>\n",
       "      <td>1.4</td>\n",
       "    </tr>\n",
       "    <tr>\n",
       "      <th>3</th>\n",
       "      <td>4</td>\n",
       "      <td>Ana</td>\n",
       "      <td>Garcia</td>\n",
       "      <td>Aprobado</td>\n",
       "      <td>5.6</td>\n",
       "    </tr>\n",
       "    <tr>\n",
       "      <th>4</th>\n",
       "      <td>5</td>\n",
       "      <td>Esteban</td>\n",
       "      <td>Gonzalez</td>\n",
       "      <td>Aprobado</td>\n",
       "      <td>7.8</td>\n",
       "    </tr>\n",
       "  </tbody>\n",
       "</table>\n",
       "</div>"
      ],
      "text/plain": [
       "   Id     Nombre  Apellido Resultado  Nota\n",
       "0   1       Juan    Garcia  Suspenso   4.5\n",
       "1   2      Pedro   Sanchez  Aprobado   8.9\n",
       "2   3  Estefania     Lopez  Suspenso   1.4\n",
       "3   4        Ana    Garcia  Aprobado   5.6\n",
       "4   5    Esteban  Gonzalez  Aprobado   7.8"
      ]
     },
     "execution_count": 82,
     "metadata": {},
     "output_type": "execute_result"
    }
   ],
   "source": [
    "# Agregar nueva columna al dataframe\n",
    "resultado = ['Suspenso','Aprobado','Suspenso','Aprobado','Aprobado']\n",
    "dfDesdeDict1.insert(loc=3, column=\"Resultado\", value=resultado)\n",
    "dfDesdeDict1"
   ]
  },
  {
   "cell_type": "code",
   "execution_count": 83,
   "id": "e8e9c268",
   "metadata": {},
   "outputs": [
    {
     "data": {
      "text/html": [
       "<div>\n",
       "<style scoped>\n",
       "    .dataframe tbody tr th:only-of-type {\n",
       "        vertical-align: middle;\n",
       "    }\n",
       "\n",
       "    .dataframe tbody tr th {\n",
       "        vertical-align: top;\n",
       "    }\n",
       "\n",
       "    .dataframe thead th {\n",
       "        text-align: right;\n",
       "    }\n",
       "</style>\n",
       "<table border=\"1\" class=\"dataframe\">\n",
       "  <thead>\n",
       "    <tr style=\"text-align: right;\">\n",
       "      <th></th>\n",
       "      <th>Id</th>\n",
       "      <th>Nota</th>\n",
       "    </tr>\n",
       "    <tr>\n",
       "      <th>Resultado</th>\n",
       "      <th></th>\n",
       "      <th></th>\n",
       "    </tr>\n",
       "  </thead>\n",
       "  <tbody>\n",
       "    <tr>\n",
       "      <th>Aprobado</th>\n",
       "      <td>3.666667</td>\n",
       "      <td>7.433333</td>\n",
       "    </tr>\n",
       "    <tr>\n",
       "      <th>Suspenso</th>\n",
       "      <td>2.000000</td>\n",
       "      <td>2.950000</td>\n",
       "    </tr>\n",
       "  </tbody>\n",
       "</table>\n",
       "</div>"
      ],
      "text/plain": [
       "                 Id      Nota\n",
       "Resultado                    \n",
       "Aprobado   3.666667  7.433333\n",
       "Suspenso   2.000000  2.950000"
      ]
     },
     "execution_count": 83,
     "metadata": {},
     "output_type": "execute_result"
    }
   ],
   "source": [
    "# Media de los aprobados y suspensos\n",
    "dfDesdeDict1.groupby([\"Resultado\"]).mean([\"Nota\"])"
   ]
  },
  {
   "cell_type": "code",
   "execution_count": 75,
   "id": "db20751f",
   "metadata": {},
   "outputs": [
    {
     "data": {
      "text/html": [
       "<div>\n",
       "<style scoped>\n",
       "    .dataframe tbody tr th:only-of-type {\n",
       "        vertical-align: middle;\n",
       "    }\n",
       "\n",
       "    .dataframe tbody tr th {\n",
       "        vertical-align: top;\n",
       "    }\n",
       "\n",
       "    .dataframe thead th {\n",
       "        text-align: right;\n",
       "    }\n",
       "</style>\n",
       "<table border=\"1\" class=\"dataframe\">\n",
       "  <thead>\n",
       "    <tr style=\"text-align: right;\">\n",
       "      <th></th>\n",
       "      <th>Id</th>\n",
       "      <th>Nombre</th>\n",
       "      <th>Apellido</th>\n",
       "      <th>Resultado</th>\n",
       "      <th>Nota</th>\n",
       "    </tr>\n",
       "  </thead>\n",
       "  <tbody>\n",
       "    <tr>\n",
       "      <th>0</th>\n",
       "      <td>1</td>\n",
       "      <td>Juan</td>\n",
       "      <td>Garcia</td>\n",
       "      <td>Suspenso</td>\n",
       "      <td>4.5</td>\n",
       "    </tr>\n",
       "    <tr>\n",
       "      <th>1</th>\n",
       "      <td>2</td>\n",
       "      <td>Pedro</td>\n",
       "      <td>Sanchez</td>\n",
       "      <td>Aprobado</td>\n",
       "      <td>8.9</td>\n",
       "    </tr>\n",
       "    <tr>\n",
       "      <th>2</th>\n",
       "      <td>3</td>\n",
       "      <td>Estefania</td>\n",
       "      <td>Lopez</td>\n",
       "      <td>Suspenso</td>\n",
       "      <td>1.4</td>\n",
       "    </tr>\n",
       "    <tr>\n",
       "      <th>3</th>\n",
       "      <td>4</td>\n",
       "      <td>Ana</td>\n",
       "      <td>Garcia</td>\n",
       "      <td>Aprobado</td>\n",
       "      <td>5.6</td>\n",
       "    </tr>\n",
       "    <tr>\n",
       "      <th>4</th>\n",
       "      <td>5</td>\n",
       "      <td>Esteban</td>\n",
       "      <td>Gonzalez</td>\n",
       "      <td>Aprobado</td>\n",
       "      <td>7.8</td>\n",
       "    </tr>\n",
       "    <tr>\n",
       "      <th>5</th>\n",
       "      <td>6</td>\n",
       "      <td>Silvia</td>\n",
       "      <td>Gonzalez</td>\n",
       "      <td>NaN</td>\n",
       "      <td>5.5</td>\n",
       "    </tr>\n",
       "    <tr>\n",
       "      <th>6</th>\n",
       "      <td>7</td>\n",
       "      <td>Pedro</td>\n",
       "      <td>Perez</td>\n",
       "      <td>NaN</td>\n",
       "      <td>8.9</td>\n",
       "    </tr>\n",
       "  </tbody>\n",
       "</table>\n",
       "</div>"
      ],
      "text/plain": [
       "   Id     Nombre  Apellido Resultado  Nota\n",
       "0   1       Juan    Garcia  Suspenso   4.5\n",
       "1   2      Pedro   Sanchez  Aprobado   8.9\n",
       "2   3  Estefania     Lopez  Suspenso   1.4\n",
       "3   4        Ana    Garcia  Aprobado   5.6\n",
       "4   5    Esteban  Gonzalez  Aprobado   7.8\n",
       "5   6     Silvia  Gonzalez       NaN   5.5\n",
       "6   7      Pedro     Perez       NaN   8.9"
      ]
     },
     "execution_count": 75,
     "metadata": {},
     "output_type": "execute_result"
    }
   ],
   "source": [
    "# Agregar los datos del dfDesdeDict2 al dfDesdeDict1\n",
    "# Note: pandas.DataFrame.append is deprecated since version 1.4.0 . Rather use concat() .\n",
    "#dfDesdeDict3 = dfDesdeDict1.append(dfDesdeDict2, ignore_index=True)\n",
    "# con _append si funciona\n",
    "dfDesdeDict3 = dfDesdeDict1._append(dfDesdeDict2, ignore_index=True)\n",
    "dfDesdeDict3"
   ]
  },
  {
   "cell_type": "code",
   "execution_count": 76,
   "id": "13975eaf",
   "metadata": {},
   "outputs": [
    {
     "data": {
      "text/html": [
       "<div>\n",
       "<style scoped>\n",
       "    .dataframe tbody tr th:only-of-type {\n",
       "        vertical-align: middle;\n",
       "    }\n",
       "\n",
       "    .dataframe tbody tr th {\n",
       "        vertical-align: top;\n",
       "    }\n",
       "\n",
       "    .dataframe thead th {\n",
       "        text-align: right;\n",
       "    }\n",
       "</style>\n",
       "<table border=\"1\" class=\"dataframe\">\n",
       "  <thead>\n",
       "    <tr style=\"text-align: right;\">\n",
       "      <th></th>\n",
       "      <th>Id</th>\n",
       "      <th>Nombre</th>\n",
       "      <th>Apellido</th>\n",
       "      <th>Resultado</th>\n",
       "      <th>Nota</th>\n",
       "    </tr>\n",
       "  </thead>\n",
       "  <tbody>\n",
       "    <tr>\n",
       "      <th>0</th>\n",
       "      <td>1</td>\n",
       "      <td>Juan</td>\n",
       "      <td>Garcia</td>\n",
       "      <td>Suspenso</td>\n",
       "      <td>4.5</td>\n",
       "    </tr>\n",
       "    <tr>\n",
       "      <th>1</th>\n",
       "      <td>2</td>\n",
       "      <td>Pedro</td>\n",
       "      <td>Sanchez</td>\n",
       "      <td>Aprobado</td>\n",
       "      <td>8.9</td>\n",
       "    </tr>\n",
       "    <tr>\n",
       "      <th>2</th>\n",
       "      <td>3</td>\n",
       "      <td>Estefania</td>\n",
       "      <td>Lopez</td>\n",
       "      <td>Suspenso</td>\n",
       "      <td>1.4</td>\n",
       "    </tr>\n",
       "    <tr>\n",
       "      <th>3</th>\n",
       "      <td>4</td>\n",
       "      <td>Ana</td>\n",
       "      <td>Garcia</td>\n",
       "      <td>Aprobado</td>\n",
       "      <td>5.6</td>\n",
       "    </tr>\n",
       "    <tr>\n",
       "      <th>4</th>\n",
       "      <td>5</td>\n",
       "      <td>Esteban</td>\n",
       "      <td>Gonzalez</td>\n",
       "      <td>Aprobado</td>\n",
       "      <td>7.8</td>\n",
       "    </tr>\n",
       "    <tr>\n",
       "      <th>5</th>\n",
       "      <td>6</td>\n",
       "      <td>Silvia</td>\n",
       "      <td>Gonzalez</td>\n",
       "      <td>NaN</td>\n",
       "      <td>5.5</td>\n",
       "    </tr>\n",
       "    <tr>\n",
       "      <th>6</th>\n",
       "      <td>7</td>\n",
       "      <td>Pedro</td>\n",
       "      <td>Perez</td>\n",
       "      <td>NaN</td>\n",
       "      <td>8.9</td>\n",
       "    </tr>\n",
       "    <tr>\n",
       "      <th>7</th>\n",
       "      <td>8</td>\n",
       "      <td>Jorge</td>\n",
       "      <td>Garcia</td>\n",
       "      <td>Suspenso</td>\n",
       "      <td>4.5</td>\n",
       "    </tr>\n",
       "    <tr>\n",
       "      <th>8</th>\n",
       "      <td>9</td>\n",
       "      <td>Maria</td>\n",
       "      <td>Gonzalez</td>\n",
       "      <td>Aprobado</td>\n",
       "      <td>8.9</td>\n",
       "    </tr>\n",
       "  </tbody>\n",
       "</table>\n",
       "</div>"
      ],
      "text/plain": [
       "   Id     Nombre  Apellido Resultado  Nota\n",
       "0   1       Juan    Garcia  Suspenso   4.5\n",
       "1   2      Pedro   Sanchez  Aprobado   8.9\n",
       "2   3  Estefania     Lopez  Suspenso   1.4\n",
       "3   4        Ana    Garcia  Aprobado   5.6\n",
       "4   5    Esteban  Gonzalez  Aprobado   7.8\n",
       "5   6     Silvia  Gonzalez       NaN   5.5\n",
       "6   7      Pedro     Perez       NaN   8.9\n",
       "7   8      Jorge    Garcia  Suspenso   4.5\n",
       "8   9      Maria  Gonzalez  Aprobado   8.9"
      ]
     },
     "execution_count": 76,
     "metadata": {},
     "output_type": "execute_result"
    }
   ],
   "source": [
    "# Agregar los datos del df_nuevo al dfDesdeDict3\n",
    "data3 = [[8,'Jorge','Garcia','Suspenso', 4.5], [9,'Maria','Gonzalez','Aprobado',8.9]]\n",
    "#df_nuevo = pd.DataFrame(data3, columns=['Id','Nombre','Apellido','Resultado','Nota'])\n",
    "df_nuevo = pd.DataFrame(data3, columns=dfDesdeDict3.columns)\n",
    "dfDesdeDict3= pd.concat([dfDesdeDict3,df_nuevo], ignore_index=True)\n",
    "dfDesdeDict3"
   ]
  },
  {
   "cell_type": "code",
   "execution_count": 77,
   "id": "e182cf19",
   "metadata": {},
   "outputs": [
    {
     "name": "stdout",
     "output_type": "stream",
     "text": [
      "Resultado\n",
      "Aprobado    4\n",
      "Suspenso    3\n",
      "dtype: int64\n"
     ]
    }
   ],
   "source": [
    "# Mostrar cuantos aprobados o suspensos tenemos\n",
    "#dfDesdeDict3.groupby('Resultado')['Id'].count()\n",
    "# es lo mismo\n",
    "print(dfDesdeDict3.groupby([\"Resultado\"]).size())"
   ]
  },
  {
   "cell_type": "code",
   "execution_count": 69,
   "id": "eb610158",
   "metadata": {},
   "outputs": [
    {
     "name": "stdout",
     "output_type": "stream",
     "text": [
      "Media: 98.75 Max: 105\n"
     ]
    }
   ],
   "source": [
    "data = {\n",
    "  'co2': [95, 90, 99, 104, 105, 94, 99, 104],\n",
    "  'model': ['Citigo', 'Fabia', 'Fiesta', 'Rapid', 'Focus', 'Mondeo', 'Octavia', 'B-Max'],\n",
    "  'car': ['Skoda', 'Skoda', 'Ford', 'Skoda', 'Ford', 'Ford', 'Skoda', 'Ford']\n",
    "}\n",
    "\n",
    "df = pd.DataFrame(data)\n",
    "\n",
    "print(\"Media:\",df[\"co2\"].mean(), \"Max:\",df[\"co2\"].max() )"
   ]
  },
  {
   "cell_type": "code",
   "execution_count": 46,
   "id": "1bee3db3",
   "metadata": {},
   "outputs": [
    {
     "data": {
      "text/plain": [
       "Apellido  Resultado\n",
       "Garcia    Aprobado     1\n",
       "          Suspenso     1\n",
       "Gonzalez  Aprobado     1\n",
       "Lopez     Suspenso     1\n",
       "Sanchez   Aprobado     1\n",
       "Name: Id, dtype: int64"
      ]
     },
     "execution_count": 46,
     "metadata": {},
     "output_type": "execute_result"
    }
   ],
   "source": [
    "# Agrupar por apellido y resultado\n",
    "dfDesdeDict3.groupby(['Apellido','Resultado'])['Id'].count()"
   ]
  },
  {
   "cell_type": "markdown",
   "id": "6ee0a21c",
   "metadata": {},
   "source": [
    "# Tipos de merge:\n",
    "# inner:  solo en comun\n",
    "# left: todos los de la izquierda + en comun\n",
    "# right: todos los de la derecha + en comun\n",
    "# outer: todos"
   ]
  },
  {
   "cell_type": "code",
   "execution_count": 86,
   "id": "71e749ad",
   "metadata": {},
   "outputs": [
    {
     "name": "stdout",
     "output_type": "stream",
     "text": [
      "   Id    Nombre  Precio\n",
      "0   1  Pantalla  129.50\n",
      "1   2   Teclado   49.95\n",
      "2   3     Raton   19.75\n",
      "3   4   Scanner  300.00\n",
      "      Nombre  Proveedor\n",
      "0   Pantalla     Lenovo\n",
      "1    Teclado   Logitech\n",
      "2      Raton  Microsoft\n",
      "3  Impresora         HP\n"
     ]
    }
   ],
   "source": [
    "# Preparar los 2 dataframes con un campo en comun\n",
    "dict1 = [{'Id':1, 'Nombre':'Pantalla', 'Precio':129.50},\n",
    "         {'Id':2, 'Nombre':'Teclado', 'Precio':49.95},\n",
    "         {'Id':3, 'Nombre':'Raton', 'Precio':19.75},\n",
    "         {'Id':4, 'Nombre':'Scanner', 'Precio':300}]\n",
    "df1 = pd.DataFrame(dict1)\n",
    "\n",
    "dict2 = [{'Nombre':'Pantalla', 'Proveedor':'Lenovo'},\n",
    "         {'Nombre':'Teclado', 'Proveedor':'Logitech'},\n",
    "         {'Nombre':'Raton', 'Proveedor':'Microsoft'},\n",
    "         {'Nombre':'Impresora', 'Proveedor':'HP'}]\n",
    "df2 = pd.DataFrame(dict2)\n",
    "print(df1)\n",
    "print(df2)"
   ]
  },
  {
   "cell_type": "code",
   "execution_count": null,
   "id": "463bab0f",
   "metadata": {},
   "outputs": [],
   "source": [
    "# merge: inner\n",
    "df_inner = pd.merge(df1, df2, how='inner', on=['Nombre'])\n",
    "df_inner"
   ]
  },
  {
   "cell_type": "code",
   "execution_count": null,
   "id": "55ec7172",
   "metadata": {},
   "outputs": [],
   "source": []
  },
  {
   "cell_type": "code",
   "execution_count": null,
   "id": "1c032a43",
   "metadata": {},
   "outputs": [],
   "source": []
  },
  {
   "cell_type": "code",
   "execution_count": 37,
   "id": "c8685536",
   "metadata": {},
   "outputs": [],
   "source": [
    "# !pip install pandas"
   ]
  },
  {
   "cell_type": "code",
   "execution_count": null,
   "id": "2d2a6135",
   "metadata": {},
   "outputs": [],
   "source": [
    "# actualiza todo a la ultima version\n",
    "# pip freeze --local | grep -v '^\\-e' | cut -d = -f 1  | xargs -n1 pip install -U\n",
    "# !pip freeze --local | grep -v '^\\-e' | cut -d = -f 1  | xargs -n1 pip install -U"
   ]
  },
  {
   "cell_type": "code",
   "execution_count": 38,
   "id": "e6e6d809",
   "metadata": {},
   "outputs": [
    {
     "name": "stdout",
     "output_type": "stream",
     "text": [
      "Selected Jupyter core packages...\n",
      "IPython          : not installed\n",
      "ipykernel        : not installed\n",
      "ipywidgets       : not installed\n",
      "jupyter_client   : 7.3.5\n",
      "jupyter_core     : 4.11.1\n",
      "jupyter_server   : not installed\n",
      "jupyterlab       : not installed\n",
      "nbclient         : 0.7.0\n",
      "nbconvert        : 7.2.1\n",
      "nbformat         : 5.7.0\n",
      "notebook         : not installed\n",
      "qtconsole        : not installed\n",
      "traitlets        : 5.4.0\n"
     ]
    }
   ],
   "source": [
    "!jupyter --version"
   ]
  },
  {
   "cell_type": "code",
   "execution_count": 39,
   "id": "7d631529",
   "metadata": {},
   "outputs": [],
   "source": [
    "# pip install --upgrade pandas"
   ]
  },
  {
   "cell_type": "code",
   "execution_count": 40,
   "id": "e1371f81",
   "metadata": {},
   "outputs": [],
   "source": [
    "# pip list"
   ]
  }
 ],
 "metadata": {
  "kernelspec": {
   "display_name": "Python 3",
   "language": "python",
   "name": "python3"
  },
  "language_info": {
   "codemirror_mode": {
    "name": "ipython",
    "version": 3
   },
   "file_extension": ".py",
   "mimetype": "text/x-python",
   "name": "python",
   "nbconvert_exporter": "python",
   "pygments_lexer": "ipython3",
   "version": "3.8.8"
  }
 },
 "nbformat": 4,
 "nbformat_minor": 5
}
